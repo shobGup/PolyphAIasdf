{
 "cells": [
  {
   "cell_type": "code",
   "execution_count": null,
   "id": "c5ed5e19",
   "metadata": {},
   "outputs": [],
   "source": [
    "# Include necessary imports"
   ]
  },
  {
   "cell_type": "code",
   "execution_count": null,
   "id": "c2d8d9e7",
   "metadata": {},
   "outputs": [],
   "source": [
    "# Preprocess the data"
   ]
  },
  {
   "cell_type": "code",
   "execution_count": null,
   "id": "0dd9a377",
   "metadata": {},
   "outputs": [],
   "source": [
    "# Create our first model (NN)"
   ]
  },
  {
   "cell_type": "code",
   "execution_count": null,
   "id": "b60e41dd",
   "metadata": {},
   "outputs": [],
   "source": [
    "# Test"
   ]
  },
  {
   "cell_type": "code",
   "execution_count": null,
   "id": "410c1a74",
   "metadata": {},
   "outputs": [],
   "source": [
    "# Finetune (hyperparameters, move around test data (refer to notes), etc)"
   ]
  },
  {
   "cell_type": "code",
   "execution_count": null,
   "id": "cc4edec4",
   "metadata": {},
   "outputs": [],
   "source": [
    "# Test with new data + evaluate"
   ]
  },
  {
   "cell_type": "code",
   "execution_count": null,
   "id": "664baa9d",
   "metadata": {},
   "outputs": [],
   "source": [
    "# Make any other ch"
   ]
  }
 ],
 "metadata": {
  "kernelspec": {
   "display_name": "Python 3 (ipykernel)",
   "language": "python",
   "name": "python3"
  },
  "language_info": {
   "codemirror_mode": {
    "name": "ipython",
    "version": 3
   },
   "file_extension": ".py",
   "mimetype": "text/x-python",
   "name": "python",
   "nbconvert_exporter": "python",
   "pygments_lexer": "ipython3",
   "version": "3.11.4"
  }
 },
 "nbformat": 4,
 "nbformat_minor": 5
}
